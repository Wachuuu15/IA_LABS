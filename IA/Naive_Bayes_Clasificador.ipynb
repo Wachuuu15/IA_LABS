{
 "cells": [
  {
   "cell_type": "markdown",
   "id": "d3fdb7ea",
   "metadata": {},
   "source": [
    "#  Naive Bayes: Clasificador de Mensajes Ham/Spam"
   ]
  },
  {
   "cell_type": "code",
   "execution_count": 1,
   "id": "87dad15f",
   "metadata": {},
   "outputs": [
    {
     "name": "stdout",
     "output_type": "stream",
     "text": [
      "Requirement already satisfied: scikit-learn in c:\\users\\jenni\\anaconda3\\lib\\site-packages (1.3.0)\n",
      "Requirement already satisfied: numpy>=1.17.3 in c:\\users\\jenni\\anaconda3\\lib\\site-packages (from scikit-learn) (1.24.3)\n",
      "Requirement already satisfied: scipy>=1.5.0 in c:\\users\\jenni\\anaconda3\\lib\\site-packages (from scikit-learn) (1.11.1)\n",
      "Requirement already satisfied: joblib>=1.1.1 in c:\\users\\jenni\\anaconda3\\lib\\site-packages (from scikit-learn) (1.2.0)\n",
      "Requirement already satisfied: threadpoolctl>=2.0.0 in c:\\users\\jenni\\anaconda3\\lib\\site-packages (from scikit-learn) (2.2.0)\n"
     ]
    }
   ],
   "source": [
    "!pip install scikit-learn"
   ]
  },
  {
   "cell_type": "code",
   "execution_count": 85,
   "id": "6c71f848",
   "metadata": {},
   "outputs": [],
   "source": [
    "import re\n",
    "import random\n",
    "from sklearn.model_selection import train_test_split\n",
    "from sklearn.metrics import accuracy_score, classification_report\n",
    "from collections import defaultdict\n",
    "from collections import Counter"
   ]
  },
  {
   "cell_type": "code",
   "execution_count": 86,
   "id": "3f409957",
   "metadata": {},
   "outputs": [],
   "source": [
    "def limpiar_texto(texto):\n",
    "    texto = re.sub(r'[^a-zA-Z\\s]', '', texto)\n",
    "    return texto.lower()"
   ]
  },
  {
   "cell_type": "code",
   "execution_count": 87,
   "id": "9768ca1e",
   "metadata": {},
   "outputs": [],
   "source": [
    "def entrenar_modelo(dataset):\n",
    "    palabras_ham = defaultdict(int)\n",
    "    palabras_spam = defaultdict(int)\n",
    "    total_ham = 0\n",
    "    total_spam = 0\n",
    "\n",
    "    for mensaje, categoria in dataset:\n",
    "        mensaje = limpiar_texto(mensaje)\n",
    "        palabras = mensaje.split()\n",
    "\n",
    "        if categoria == 'ham':\n",
    "            total_ham += 1\n",
    "            for palabra in palabras:\n",
    "                palabras_ham[palabra] += 1\n",
    "        elif categoria == 'spam':\n",
    "            total_spam += 1\n",
    "            for palabra in palabras:\n",
    "                palabras_spam[palabra] += 1\n",
    "\n",
    "    return palabras_ham, palabras_spam, total_ham, total_spam\n",
    "\n",
    "def predecir_mensaje(mensaje, palabras_ham, palabras_spam, total_ham, total_spam, vocabulario):\n",
    "    mensaje = limpiar_texto(mensaje)\n",
    "    palabras = mensaje.split()\n",
    "\n",
    "    prob_ham = 1.0\n",
    "    prob_spam = 1.0\n",
    "\n",
    "    for palabra in palabras:\n",
    "        prob_ham *= (palabras_ham[palabra] + 1) / (total_ham + len(vocabulario))\n",
    "        prob_spam *= (palabras_spam[palabra] + 1) / (total_spam + len(vocabulario))\n",
    "\n",
    "    return 'ham' if prob_ham > prob_spam else 'spam'\n",
    "\n",
    "vocabulario = set()\n",
    "for mensaje, _ in train_data:\n",
    "    mensaje = limpiar_texto(mensaje)\n",
    "    vocabulario.update(mensaje.split())\n",
    "\n",
    "vocabulario = list(vocabulario)\n",
    "\n",
    "palabras_ham, palabras_spam, total_ham, total_spam = entrenar_modelo(train_data)\n",
    "\n",
    "with open('entrenamiento.txt', 'r', encoding='utf-8') as file:\n",
    "    lines = file.readlines()\n",
    "\n",
    "dataset = [(limpiar_texto(line.split('\\t')[1]), line.split('\\t')[0].strip()) for line in lines]\n",
    "random.shuffle(dataset)  # Mezclar para aleatorizar\n",
    "\n",
    "train_data, test_data = train_test_split(dataset, test_size=0.3, random_state=42)\n",
    "\n",
    "y_true = [categoria for _, categoria in test_data]\n",
    "y_pred = [predecir_mensaje(mensaje, palabras_ham, palabras_spam, total_ham, total_spam, vocabulario) for mensaje, _ in test_data]"
   ]
  },
  {
   "cell_type": "code",
   "execution_count": 88,
   "id": "74345532",
   "metadata": {},
   "outputs": [],
   "source": [
    "accuracy = accuracy_score(y_true, y_pred)\n",
    "report = classification_report(y_true, y_pred, zero_division=1)"
   ]
  },
  {
   "cell_type": "markdown",
   "id": "91d482a6",
   "metadata": {},
   "source": [
    "### Métricas de desempeño"
   ]
  },
  {
   "cell_type": "code",
   "execution_count": null,
   "id": "9a05ca13",
   "metadata": {},
   "outputs": [],
   "source": []
  },
  {
   "cell_type": "code",
   "execution_count": 89,
   "id": "a5dd6cb9",
   "metadata": {},
   "outputs": [
    {
     "name": "stdout",
     "output_type": "stream",
     "text": [
      "Accuracy: 0.1437125748502994\n",
      "Classification Report:\n",
      "              precision    recall  f1-score   support\n",
      "\n",
      "         ham       1.00      0.00      0.00      1430\n",
      "        spam       0.14      1.00      0.25       240\n",
      "\n",
      "    accuracy                           0.14      1670\n",
      "   macro avg       0.57      0.50      0.13      1670\n",
      "weighted avg       0.88      0.14      0.04      1670\n",
      "\n"
     ]
    }
   ],
   "source": [
    "print(f'Accuracy: {accuracy}')\n",
    "print('Classification Report:')\n",
    "print(report)\n"
   ]
  },
  {
   "cell_type": "code",
   "execution_count": 70,
   "id": "6b96c5ac",
   "metadata": {},
   "outputs": [
    {
     "name": "stdout",
     "output_type": "stream",
     "text": [
      "Total de mensajes en el conjunto de entrenamiento: 4452\n",
      "Total de mensajes en el conjunto de prueba: 1113\n",
      "Número de mensajes 'ham' en el conjunto de entrenamiento: 3854\n",
      "Número de mensajes 'spam' en el conjunto de entrenamiento: 598\n",
      "Número de mensajes 'ham' en el conjunto de prueba: 964\n",
      "Número de mensajes 'spam' en el conjunto de prueba: 149\n"
     ]
    }
   ],
   "source": [
    "total_mensajes_entrenamiento = len(train_data)\n",
    "print(\"Total de mensajes en el conjunto de entrenamiento:\", total_mensajes_entrenamiento)\n",
    "\n",
    "total_mensajes_prueba = len(test_data)\n",
    "print(\"Total de mensajes en el conjunto de prueba:\", total_mensajes_prueba)\n",
    "\n",
    "num_ham_entrenamiento = sum(1 for _, categoria in train_data if categoria == 'ham')\n",
    "num_spam_entrenamiento = sum(1 for _, categoria in train_data if categoria == 'spam')\n",
    "print(\"Número de mensajes 'ham' en el conjunto de entrenamiento:\", num_ham_entrenamiento)\n",
    "print(\"Número de mensajes 'spam' en el conjunto de entrenamiento:\", num_spam_entrenamiento)\n",
    "\n",
    "num_ham_prueba = sum(1 for _, categoria in test_data if categoria == 'ham')\n",
    "num_spam_prueba = sum(1 for _, categoria in test_data if categoria == 'spam')\n",
    "print(\"Número de mensajes 'ham' en el conjunto de prueba:\", num_ham_prueba)\n",
    "print(\"Número de mensajes 'spam' en el conjunto de prueba:\", num_spam_prueba)\n",
    "\n"
   ]
  },
  {
   "cell_type": "markdown",
   "id": "eae47dfd",
   "metadata": {},
   "source": [
    "##  Lectura y limpieza del dataset"
   ]
  },
  {
   "cell_type": "code",
   "execution_count": 78,
   "id": "249ebba6",
   "metadata": {},
   "outputs": [],
   "source": [
    "import re\n",
    "import random\n",
    "from sklearn.model_selection import train_test_split\n",
    "from collections import defaultdict\n",
    "from sklearn.metrics import accuracy_score, classification_report, confusion_matrix"
   ]
  },
  {
   "cell_type": "code",
   "execution_count": 79,
   "id": "2f057627",
   "metadata": {},
   "outputs": [],
   "source": [
    "def limpiar_texto(texto):\n",
    "    texto = re.sub(r'[^a-zA-Z\\s]', '', texto)\n",
    "    return texto.lower()"
   ]
  },
  {
   "cell_type": "code",
   "execution_count": 80,
   "id": "34fa8d5a",
   "metadata": {},
   "outputs": [],
   "source": [
    "def entrenar_modelo(dataset):\n",
    "    palabras_ham = defaultdict(int)\n",
    "    palabras_spam = defaultdict(int)\n",
    "    total_ham = 0\n",
    "    total_spam = 0\n",
    "\n",
    "    for categoria, mensaje in dataset:\n",
    "        mensaje = limpiar_texto(mensaje)\n",
    "        palabras = mensaje.split()\n",
    "\n",
    "        if categoria == 'ham':\n",
    "            total_ham += 1\n",
    "            for palabra in palabras:\n",
    "                palabras_ham[palabra] += 1\n",
    "        elif categoria == 'spam':\n",
    "            total_spam += 1\n",
    "            for palabra in palabras:\n",
    "                palabras_spam[palabra] += 1\n",
    "\n",
    "    return palabras_ham, palabras_spam, total_ham, total_spam\n",
    "\n",
    "def predecir_mensaje(mensaje, palabras_ham, palabras_spam, total_ham, total_spam, vocabulario):\n",
    "    mensaje = limpiar_texto(mensaje)\n",
    "    palabras = mensaje.split()\n",
    "\n",
    "    prob_ham = 1.0\n",
    "    prob_spam = 1.0\n",
    "\n",
    "    for palabra in palabras:\n",
    "        prob_ham *= (palabras_ham[palabra] + 1) / (total_ham + len(vocabulario))\n",
    "        prob_spam *= (palabras_spam[palabra] + 1) / (total_spam + len(vocabulario))\n",
    "\n",
    "    return 'ham' if prob_ham > prob_spam else 'spam'"
   ]
  },
  {
   "cell_type": "code",
   "execution_count": 81,
   "id": "4d1d5c8d",
   "metadata": {},
   "outputs": [],
   "source": [
    "with open('entrenamiento.txt', 'r', encoding='utf-8') as file:\n",
    "    lines = file.readlines()\n",
    "\n",
    "dataset = [(line.split('\\t')[0].strip(), line.split('\\t')[1].strip()) for line in lines]\n",
    "random.shuffle(dataset)  \n",
    "\n",
    "train_data, test_data = train_test_split(dataset, test_size=0.2, random_state=42)"
   ]
  },
  {
   "cell_type": "code",
   "execution_count": 82,
   "id": "b73e2ea8",
   "metadata": {},
   "outputs": [],
   "source": [
    "vocabulario = set()\n",
    "for _, mensaje in train_data:\n",
    "    mensaje = limpiar_texto(mensaje)\n",
    "    vocabulario.update(mensaje.split())\n",
    "\n",
    "vocabulario = list(vocabulario)\n",
    "\n",
    "palabras_ham, palabras_spam, total_ham, total_spam = entrenar_modelo(train_data)\n",
    "\n",
    "y_true = [categoria for categoria, _ in test_data]\n",
    "y_pred = [predecir_mensaje(mensaje, palabras_ham, palabras_spam, total_ham, total_spam, vocabulario) for _, mensaje in test_data]"
   ]
  },
  {
   "cell_type": "code",
   "execution_count": 83,
   "id": "f6a57c14",
   "metadata": {},
   "outputs": [],
   "source": [
    "accuracy = accuracy_score(y_true, y_pred)\n",
    "conf_matrix = confusion_matrix(y_true, y_pred)\n",
    "report = classification_report(y_true, y_pred, zero_division=1)"
   ]
  },
  {
   "cell_type": "markdown",
   "id": "cc2bc1db",
   "metadata": {},
   "source": [
    "### Métricas de desempeño"
   ]
  },
  {
   "cell_type": "code",
   "execution_count": 84,
   "id": "87addaf5",
   "metadata": {},
   "outputs": [
    {
     "name": "stdout",
     "output_type": "stream",
     "text": [
      "Accuracy: 0.9568733153638814\n",
      "Confusion Matrix:\n",
      "[[958   7]\n",
      " [ 41 107]]\n",
      "Classification Report:\n",
      "              precision    recall  f1-score   support\n",
      "\n",
      "         ham       0.96      0.99      0.98       965\n",
      "        spam       0.94      0.72      0.82       148\n",
      "\n",
      "    accuracy                           0.96      1113\n",
      "   macro avg       0.95      0.86      0.90      1113\n",
      "weighted avg       0.96      0.96      0.95      1113\n",
      "\n"
     ]
    }
   ],
   "source": [
    "print(f'Accuracy: {accuracy}')\n",
    "print('Confusion Matrix:')\n",
    "print(conf_matrix)\n",
    "print('Classification Report:')\n",
    "print(report)"
   ]
  },
  {
   "cell_type": "markdown",
   "id": "e920f78a",
   "metadata": {},
   "source": [
    "El modelo tiene una precisión del 95.69%, lo cual es alto. Sin embargo, es importante tener en cuenta que, en casos desbalanceados (como en la clasificación de spam), la Accuracy por sí sola puede no ser suficiente para evaluar completamente el rendimiento. "
   ]
  },
  {
   "cell_type": "markdown",
   "id": "294e306b",
   "metadata": {},
   "source": [
    "Para la clase 'ham', se observa una alta precisión (96%) y recall (99%), lo que indica que el modelo clasifica eficazmente la mayoría de los mensajes 'ham'.\n",
    "\n",
    "Para la clase 'spam', la precisión es del 94%, lo que significa que de los mensajes clasificados como 'spam', el 94% realmente son spam. Sin embargo, el recall es del 72%, lo que indica que el modelo no identifica todos los mensajes 'spam' existentes."
   ]
  }
 ],
 "metadata": {
  "kernelspec": {
   "display_name": "Python 3 (ipykernel)",
   "language": "python",
   "name": "python3"
  },
  "language_info": {
   "codemirror_mode": {
    "name": "ipython",
    "version": 3
   },
   "file_extension": ".py",
   "mimetype": "text/x-python",
   "name": "python",
   "nbconvert_exporter": "python",
   "pygments_lexer": "ipython3",
   "version": "3.11.5"
  }
 },
 "nbformat": 4,
 "nbformat_minor": 5
}
