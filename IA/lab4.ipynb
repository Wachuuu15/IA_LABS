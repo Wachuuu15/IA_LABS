{
 "cells": [
  {
   "cell_type": "markdown",
   "metadata": {},
   "source": [
    "# Task 1 - Preguntas Teóricas"
   ]
  },
  {
   "cell_type": "markdown",
   "metadata": {},
   "source": [
    "**1. Explique con sus propias palabras, qué son los grafos computaciones y cuál es su importancia para el cálculo de gradientes en aplicaciones como backpropagation**\n",
    "\n",
    "La definición de grafos computación son representaciones visuales o abstractas para las operaciones matemáticas las cuales muestran cómo los datos fluyen a través de diferentes nodos, los que representan operaciones, y con las cuales se puede llegar a producir un resultado final. Estos grafos son importantes en muchas aplicaciones que se utilizan hoy en día, sin embargo en el contexto del cálculo de gradientes los grafos se usan para visualizar y organizar las operaciones necesarias para realizar los cálculos de gradientes de una manera mucho más eficiente.\n"
   ]
  },
  {
   "cell_type": "markdown",
   "metadata": {},
   "source": [
    "**2. Detalle cuales son los componentes y pasos que conforman una red neuronal. Con esto en mente, ¿cómo mejoraría el perceptrón que hizo en el laboratorio pasado?**\n",
    "\n",
    "<u>Componentes de una red neuronal:</u>\n",
    "\n",
    "- _Nodos:_ Son las unidades básicas de procesamiento de una red neuronal, en las cuales cada una recibe una entrada, se hace un cálculo y se produce una salida.\n",
    "\n",
    "- _Pesos:_ También conocido como las conexiones de los nodos, estos representan la influencia que una nodo tiene sobre otro, la cual se va ajustando durante el entrenamiento para poder mejorar el rendimiento de la red.\n",
    "\n",
    "- _Capas:_ Estas son agrupaciones de nodos que procesan la información en conjunto. Generalmente existen capas de entrada, ocultas y de salida.\n",
    "    \n",
    "- _Funciones de activación:_ Son funciones matemáticas aplicadas a la salida de cada neurona las cuales inducen no linealidad en la red y permiten que esta aprenda y modele relaciones más complejas.\n",
    "\n",
    "\n",
    "<u>Pasos del entrenamiento de una red neuronal:</u>\n",
    "\n",
    "- _Inicialización de pesos:_ Estos se inicializan de forma aleatoria mediante un método específico.\n",
    "\n",
    "- _Forward pass:_ Capa por capa, se calculan las salidas de las neuronas mediante los pesos actuales y las funciones de activación.\n",
    "\n",
    "- _Cálculo de pérdida:_ Aquí se compara la salida calculada con la deseada mediante una función de pérdida.\n",
    "\n",
    "- _Backpropagation:_ Se calculan los gradientes de la función de pérdida con respecto a los pesos de la red, a la vez que las gradientes se propagan hacia atrás mediante la regla de la cadena.\n",
    "\n",
    "- _Actualización de pesos:_ Los pesos de la red se ajustan para reducir la pérdida mediante un algoritmo de optimización.\n",
    "\n",
    "\n",
    "<u>Mejora del perceptrón:</u>\n",
    "\n",
    "Las capas ocultas de una red neuronal permiten que estas puedan aprender representaciones más complejas de un conjunto de datos, así como también permite modelar relaciones no lineales, así mismo, reemplazar la función de activación lineal de un perceptrón por una sigmoidal o una tangente hiperbólica puede llegar a mejorar el rendimiento. A pesar de que no siempre es más, sin embargo, generar un conjunto de datos de entrenamiento más grande puede ayudar a la capacidad de generalización y al rendimiento del modelo, siempre teniendo cuidado de no caer en un overfitting, también variar las configuraciones de los hiperparámetros puede mejorar el resultado del modelo. Todas estas estrategias pueden llegar a mejorar el perceptrón realizado anteriormente, sin embargo no deben aplicarse religiosamente todas, sino que deben ser evaluadas y seleccionadas según el caso."
   ]
  },
  {
   "cell_type": "markdown",
   "metadata": {},
   "source": [
    "**3. Investigue y explique cómo se selecciona el valor K usando el método de la silueta para el algoritmo de K-Means. Explique las fórmulas (ecuaciones) que lo componen así como las asumpciones, si hay.**\n",
    "\n",
    "El método de la silueta se refiere al determinar el número óptimo de clústers en el algoritmo. Este se basa en evaluar la cohesión y separación de los clústers para diferentes cantidades de ellos para así seleccionar el valor que maximice la cohesión y minimice la separación.\n",
    "\n",
    "<u>Fórmula de la silueta:</u>\n",
    "\n",
    "Para cada punto de datos i en el conjunto de datos se calcula la cohesión entre clústers como la distancia promedio entre en punto y todos los demás puntos dentro del mismo clúster. Luego se calcula la separación entre clústers como la distancia promedio entre el punto y todos los puntos del clúster más cercano. Por último se calcula el valor de la silueta para el punto como si=(bi - ai) / max(ai , bi)\n",
    "\n",
    "<u>Asunciones:</u>\n",
    "\n",
    "- Mientras más cercanos sean los puntos dentro de un clúster, se tendrá una alta cohesión intraclúster.\n",
    "\n",
    "- Cuanto más lejos estén los clústers de uno del otro se tendrá una mayor separación interclúster.\n",
    "\n",
    "- El valor de silueta puede variar entre -1 y 1, valor el cual, mientras más cercano a 1 sea indica que está bien clasificado, mientras que si es más cercano a -1 indica que el punto debería pertenecer a un clúster distinto porque puede estar mal clasificado, por su parte, si el valor es, o es cercano, a 0, el punto analizado está cerca del límite de dos clústers.\n",
    "\n",
    "Entendiendo cómo se calculan los valores de silueta para los puntos, el valor de K debe seleccionarse para que se maximice el valor de Sk, lo que significa que se debe buscar que los clústers que se tengan proporcionen una buena cohesión y una separación de los clústers adecuada, es decir, se tiene que tener una alta coherencia y poca superposición de los clústers."
   ]
  },
  {
   "cell_type": "markdown",
   "metadata": {},
   "source": [
    "**4. Investigue sobre Principal Component Analysis (PCA) y responda respecto a algoritmos como K-Means:**\n",
    "\n",
    "<u>a. ¿Cómo podría ayudarle a mejorar la calidad de sus clusters cuando se usa K-Means?</u>\n",
    "\n",
    "Al reducir la dimensionalidad de los datos y conservar la mayor parte de la variación de los datos antes de aplicar K-Means se elimina el ruido que pueda haber en los datos, así como se destacan las características más importantes, lo que deriva en una producción de mejores clústers. Al mismo tiempo, con esta reducción de dimensionalidad los clústers resultantes tienen una visualización e interpretación más sencilla y entendible.  K-Means también puede dar pesos desproporcionados a ciertas variables en el proceso de agrupamiento si hay variables altamente correlacionadas, por lo que eliminar esta multicolinealidad al transformar variables puede capturar mejor la estructura subyacente de los datos. \n"
   ]
  }
 ],
 "metadata": {
  "language_info": {
   "name": "python"
  }
 },
 "nbformat": 4,
 "nbformat_minor": 2
}
